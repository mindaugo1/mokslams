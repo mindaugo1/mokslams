{
 "cells": [
  {
   "cell_type": "markdown",
   "metadata": {},
   "source": [
    "# GITfasdfasfasfsdf"
   ]
  },
  {
   "cell_type": "markdown",
   "metadata": {},
   "source": [
    "### Kas yra Git ir kam jis naudojamas?"
   ]
  },
  {
   "cell_type": "markdown",
   "metadata": {},
   "source": [
    "Git – tai nemokama ir atvirojo kodo versijų valdymo sistema (VCS, angl. Version Control System), sukurta Linuso Torvaldo 2005 metais.\n"
   ]
  },
  {
   "cell_type": "markdown",
   "metadata": {},
   "source": [
    "### Pagrindinės Git savybės <br>\n",
    "- Versijų valdymas: Leidžia atsekti visus pakeitimus ir grįžti prie ankstesnių failų versijų. <br>\n",
    "- Paskirstytumas: Kiekvienas vartotojas turi pilną projekto kopiją, įskaitant visą jo istoriją. <br>\n",
    "- Šakos ir sujungimai (branches ir merges): Leidžia dirbti su alternatyviomis projekto versijomis be rizikos sugadinti pagrindinę versiją. <br>\n",
    "fasdfasdf\n"
   ]
  },
  {
   "cell_type": "markdown",
   "metadata": {},
   "source": [
    "### Kaip Git veikia?\n",
    "- Git projektą sudaro saugykla (repository), kurioje laikoma visų failų ir jų pakeitimų istorija.\n",
    "#### Failų būsenos:\n",
    "- <b>Nauji (untraced):  </b>Failai, kurie dar nėra sekami Git.\n",
    "- <b>„Staged“ (paruošti įrašymui):  </b>Failai, kurie bus įtraukti į kitą commit.\n",
    "- <b>„Committed“ (užfiksuoti):  </b>Failai, kurie yra įrašyti į Git istoriją."
   ]
  },
  {
   "cell_type": "markdown",
   "metadata": {},
   "source": [
    "### Darbo su Git pradžia\n",
    "Lokalinio Git saugyklos (repository) kūrimas: <br>\n",
    "`git init` <br>\n",
    "\n",
    "Esamo projekto sujungimas su Git. <br>\n",
    "Projekto klonavimas iš nuotolinės saugyklos: <br>\n",
    "`git clone URL` <br>"
   ]
  },
  {
   "cell_type": "markdown",
   "metadata": {},
   "source": [
    "### Darbas su nuotolinėmis saugyklomis\n",
    "Kaip prijungti nuotolinę saugyklą: <br>\n",
    "`git remote add origin URL` <br>\n",
    "\n",
    "Pakeitimų siuntimas į nuotolinę saugyklą: <br>\n",
    "`git push` <br>\n",
    "\n",
    "Pakeitimų gavimas: <br>\n",
    "`git pull` <br>\n",
    " "
   ]
  },
  {
   "cell_type": "markdown",
   "metadata": {},
   "source": [
    "### Pagrindiniai Git veiksmai\n",
    "\n",
    "Failų sekimas ir būsenos tikrinimas: <br>\n",
    "`git status` <br>\n",
    "`git add` (staging area) <br>\n",
    "`git commit` (įrašymas į istoriją) <br>\n",
    "\n",
    "\n",
    "Kaip peržiūrėti istoriją: <br>\n",
    "`git log` <br>"
   ]
  },
  {
   "cell_type": "markdown",
   "metadata": {},
   "source": [
    "### Darbas su šakomis (branches)\n",
    "Naujos šakos kūrimas: <br>\n",
    "`git branch` branch-name <br>\n",
    "\n",
    "Perjungimas tarp šakų: <br>\n",
    "`git checkout` branch-name <br>\n",
    "\n",
    "Šakų sujungimas (merge): <br>\n",
    "`git merge` branch-name <br>\n"
   ]
  },
  {
   "cell_type": "markdown",
   "metadata": {},
   "source": [
    "### git revert\n",
    "git revert – tai būdas anuliuoti commit. Vietoje to, sukuriamas naujas commit, kuris „atsuka“ ankstesnius pakeitimus. <br>\n",
    " <br>\n",
    "`git revert <commit_id>` <br>\n",
    "Ši komanda sukurs naują commit, kuris atšauks nurodyto commit pakeitimus. <br>\n",
    " <br>"
   ]
  },
  {
   "cell_type": "markdown",
   "metadata": {},
   "source": [
    "# Užduotys"
   ]
  },
  {
   "cell_type": "markdown",
   "metadata": {},
   "source": [
    "### 1\n",
    "Sukurkite naują projektą savo kompiuteryje. <br>\n",
    "Inicializuokite Git saugyklą naudodami. <br>\n",
    "Sukurkite kelis failus ir patikrinkite jų būseną su `git status`. <br>"
   ]
  },
  {
   "cell_type": "markdown",
   "metadata": {},
   "source": [
    "### 2\n",
    "Pridėkite naujus failus į staging area. <br>\n",
    "Sukurkite pirmą commit<br>"
   ]
  },
  {
   "cell_type": "markdown",
   "metadata": {},
   "source": [
    "### 3\n",
    "Padarykite kelis pakeitimus failuose ir sukurkite commit'ą. <br>\n",
    "Patikrinkite visų commit istoriją. <br>"
   ]
  },
  {
   "cell_type": "markdown",
   "metadata": {},
   "source": [
    "### 4\n",
    "Sukurkite naują šaką pavadinimu develop. <br>\n",
    "Persijunkite į tą šaką. <br>\n",
    "Įdėkite naują failą arba pakeiskite esamus failus ir juos commit'inkite šakoje. <br>"
   ]
  },
  {
   "cell_type": "markdown",
   "metadata": {},
   "source": [
    "### 5\n",
    "Naudokite `git remote add origin` iš GitHub. <br>\n",
    "Siųskite pakeitimus į nuotolinę saugyklą naudodami `git push`. <br>"
   ]
  },
  {
   "cell_type": "markdown",
   "metadata": {},
   "source": [
    "### 5\n",
    "Grįžkite į pagrindinę šaką (main arba master). <br>\n",
    "Naudodami sujunkite pakeitimus iš develop šakos. <br>\n",
    "Siųskite pakeitimus į nuotolinę saugyklą naudodami `git push`. <br> "
   ]
  },
  {
   "cell_type": "markdown",
   "metadata": {},
   "source": [
    "d"
   ]
  },
  {
   "cell_type": "markdown",
   "metadata": {},
   "source": []
  }
 ],
 "metadata": {
  "language_info": {
   "name": "python"
  }
 },
 "nbformat": 4,
 "nbformat_minor": 2
}
